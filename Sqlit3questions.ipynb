{
 "cells": [
  {
   "cell_type": "markdown",
   "metadata": {},
   "source": [
    "#### Q1\n",
    "IMDB.sqlite' database contains all details of movies and has three tables with name IMDB, genre and earning.\n",
    "Find the count of each genre present in IMDB movie dataset?\n",
    "Print the Genre and number of movies present in that genre."
   ]
  },
  {
   "cell_type": "code",
   "execution_count": 91,
   "metadata": {},
   "outputs": [
    {
     "name": "stdout",
     "output_type": "stream",
     "text": [
      "Drama 77\n",
      "Adventure 43\n",
      "Action 33\n",
      "Comedy 31\n",
      "Biography 21\n",
      "Sci-Fi 18\n",
      "Thriller 14\n",
      "Romance 13\n",
      "Animation 13\n",
      "Crime 11\n",
      "Mystery 7\n",
      "Fantasy 7\n",
      "History 6\n",
      "Sport 3\n",
      "Family 3\n",
      "Music 3\n",
      "War 2\n",
      "Horror 2\n",
      "Western 2\n",
      "Musical 1\n"
     ]
    }
   ],
   "source": [
    "import pandas as pd\n",
    "import sqlite3\n",
    "import numpy as np\n",
    "\n",
    "#making a connection to the database\n",
    "db= sqlite3.connect(\"IMDB.sqlite\")\n",
    "\n",
    "# reading database as a sql query\n",
    "data1=pd.read_sql_query(\"select * from genre\",db)\n",
    "data1[\"genre\"].dropna(inplace=True)\n",
    "#checking for the total sum of null/Na values\n",
    "data1[\"genre\"].isnull().sum()\n",
    "#turns out it doesn't drop empty strings, so replacing it with Nan values\n",
    "data1.replace(\"\",np.NaN,inplace=True)\n",
    "X=data1[\"genre\"].value_counts()\n",
    "for i in range(len(X)):\n",
    "    print(X.index[i],X.values[i])"
   ]
  },
  {
   "cell_type": "markdown",
   "metadata": {},
   "source": [
    "### Q2. Find the highest-grossing movie (i.e domestic earning + worldwide earning) in IMDB database.\n",
    "Print the rating of that movie."
   ]
  },
  {
   "cell_type": "code",
   "execution_count": 155,
   "metadata": {},
   "outputs": [
    {
     "name": "stdout",
     "output_type": "stream",
     "text": [
      "8.1\n"
     ]
    }
   ],
   "source": [
    "data2= pd.read_sql_query(\"select * from earning left join IMDB using(Movie_id)\",db)\n",
    "\n",
    "#making a new column of net value\n",
    "data2[\"Net\"]= data2[\"Domestic\"]+data2[\"Worldwide\"]\n",
    "\n",
    "#Finding the max value and then linear search to find the value\n",
    "i=max(data2[\"Net\"])\n",
    "for j in range(len(data2.Net)):\n",
    "    if i == data2.Net[j]:\n",
    "        print(data2.Rating[j])"
   ]
  },
  {
   "cell_type": "markdown",
   "metadata": {},
   "source": [
    "#### Q3. Find the most voted movie in IMDB Movie Database.Print the movie name and the rating of that movie."
   ]
  },
  {
   "cell_type": "code",
   "execution_count": 192,
   "metadata": {},
   "outputs": [
    {
     "name": "stdout",
     "output_type": "stream",
     "text": [
      "Inception (2010) 8.8\n"
     ]
    }
   ],
   "source": [
    "import pandas as pd\n",
    "import sqlite3\n",
    "import numpy as np\n",
    "\n",
    "#making a connection to the database\n",
    "db= sqlite3.connect(\"IMDB.sqlite\")\n",
    "\n",
    "data3=pd.read_sql_query(\"select * from IMDB\",db)\n",
    "\n",
    "X=data3[data3.TotalVotes==max(data3.TotalVotes)][[\"Title\",\"Rating\"]]\n",
    "\n",
    "print(X.loc[45,\"Title\"],X.loc[45,\"Rating\"])"
   ]
  },
  {
   "cell_type": "markdown",
   "metadata": {},
   "source": [
    "### Q4 Find the Movie with Longest-Running Time from IMDB Movie database.\n",
    "Print the name of movie and running time as integer value."
   ]
  },
  {
   "cell_type": "code",
   "execution_count": 260,
   "metadata": {},
   "outputs": [
    {
     "name": "stdout",
     "output_type": "stream",
     "text": [
      "The Wolf of Wall Street (2013) 180\n"
     ]
    }
   ],
   "source": [
    "import pandas as pd\n",
    "import sqlite3\n",
    "import numpy as np\n",
    "\n",
    "#making a connection to the database\n",
    "db= sqlite3.connect(\"IMDB.sqlite\")\n",
    "data4=pd.read_sql_query(\"select * from IMDB\",db)\n",
    "\n",
    "\n",
    "#extracting the minutes and then converting that into float and then integer\n",
    "def minutes(input_runtime):\n",
    "    return input_runtime.strip().split(\" \")[0]\n",
    "\n",
    "data4[\"Runtime\"]=data4[\"Runtime\"].apply(minutes)\n",
    "data4[\"Runtime\"].replace(\"\",np.NaN,inplace=True)\n",
    "data4[\"Runtime\"].astype(float)\n",
    "data4.dropna(inplace=True,subset=['Runtime'])\n",
    "data4[\"Runtime\"]=data4[\"Runtime\"].astype(int)\n",
    "#returns an object so getting t\n",
    "data4=data4[data4[\"Runtime\"]==max(data4[\"Runtime\"])]\n",
    "print(data4[\"Title\"].values[0],data4[\"Runtime\"].values[0])"
   ]
  },
  {
   "cell_type": "markdown",
   "metadata": {},
   "source": [
    "#### Q5.Find the movie which has maximum net profit in IMDB Movie Database.\n",
    "Print the movie name.\n",
    "Note: Net Profit= Total Earning(Domestic+WorldWide earning) - budget  "
   ]
  },
  {
   "cell_type": "code",
   "execution_count": 276,
   "metadata": {},
   "outputs": [
    {
     "name": "stdout",
     "output_type": "stream",
     "text": [
      "Star Wars: The Force Awakens (2015)\n"
     ]
    }
   ],
   "source": [
    "import pandas as pd\n",
    "import sqlite3\n",
    "import numpy as np\n",
    "\n",
    "#making a connection to the database\n",
    "db= sqlite3.connect(\"IMDB.sqlite\")\n",
    "data5= pd.read_sql_query(\"select * from earning left join IMDB using(Movie_id)\",db)\n",
    "\n",
    "#making a new column of net value\n",
    "data5[\"Net\"]= data5[\"Domestic\"]+data5[\"Worldwide\"]\n",
    "data5[\"Budget\"].replace(\"\",np.NaN,inplace=True)\n",
    "data5[\"Budget\"].astype(float)\n",
    "data5[\"Profit\"]=data5[\"Net\"]-data5[\"Budget\"]\n",
    "data5[\"Profit\"]\n",
    "#Finding the max value and then linear search to find the value\n",
    "i=max(data5[\"Profit\"])\n",
    "for j in range(len(data5.Net)):\n",
    "    if i == data5.Profit[j]:\n",
    "        print(data5[\"Title\"][j])"
   ]
  },
  {
   "cell_type": "markdown",
   "metadata": {},
   "source": [
    "#### q6. Find the least budgeted movie in IMDB Movie Database.\n",
    "If there is more than one least budgeted movies then print the movie which has maximum net profit."
   ]
  },
  {
   "cell_type": "code",
   "execution_count": 294,
   "metadata": {},
   "outputs": [
    {
     "name": "stdout",
     "output_type": "stream",
     "text": [
      "Short Term 12 (2013) 1026200.0\n"
     ]
    }
   ],
   "source": [
    "import pandas as pd\n",
    "import sqlite3\n",
    "import numpy as np\n",
    "\n",
    "#making a connection to the database\n",
    "db= sqlite3.connect(\"IMDB.sqlite\")\n",
    "data5= pd.read_sql_query(\"select * from earning left join IMDB using(Movie_id)\",db)\n",
    "\n",
    "#making a new column of net value\n",
    "data5[\"Net\"]= data5[\"Domestic\"]+data5[\"Worldwide\"]\n",
    "data5[\"Budget\"].replace(\"\",np.NaN,inplace=True)\n",
    "data5[\"Budget\"].astype(float)\n",
    "data5[\"Profit\"]=data5[\"Net\"]-data5[\"Budget\"]\n",
    "data5[\"Profit\"]\n",
    "#Finding the max value and then linear search to find the value\n",
    "i=min(data5[\"Budget\"])\n",
    "minimum=0\n",
    "for j in range(len(data5.Net)):\n",
    "    if i == data5.Budget[j] and data5[\"Profit\"][j]>0:\n",
    "        maximum= data5[\"Profit\"][j]\n",
    "        print(data5[\"Title\"][j],data5[\"Profit\"][j])\n",
    "        "
   ]
  },
  {
   "cell_type": "markdown",
   "metadata": {},
   "source": [
    "#### Q7 Find the highest-grossing movie (i.e domestic earning + worldwide earning) in IMDB database year wise.\n",
    "Print the Year and name of the movie which was the highest grosser in that year.\n",
    "Note:Print the year in ascending order."
   ]
  },
  {
   "cell_type": "code",
   "execution_count": 480,
   "metadata": {},
   "outputs": [
    {
     "name": "stdout",
     "output_type": "stream",
     "text": [
      "2010 Toy Story 3 (2010)\n",
      "2011 Rise of the Planet of the Apes (2011)\n",
      "2012 The Avengers (2012)\n",
      "2013 The Hunger Games: Catching Fire (2013)\n",
      "2014 Guardians of the Galaxy (2014)\n",
      "2015 Star Wars: The Force Awakens (2015)\n",
      "2016 Rogue One (2016)\n"
     ]
    }
   ],
   "source": [
    "import pandas as pd\n",
    "import numpy as np\n",
    "import sqlite3\n",
    "\n",
    "db=sqlite3.connect(\"IMDB.sqlite\")\n",
    "\n",
    "data7=pd.read_sql_query(\"select * from IMDB left join earning using (Movie_id)\",db)\n",
    "\n",
    "data7[\"Net\"]= data7[\"Domestic\"]+data7[\"Worldwide\"]\n",
    "\n",
    "#extracting the year using list comprehension by converting \n",
    "def year_extracted(title):\n",
    "    return int(title.strip().split(\" \")[-1][-5:-1])\n",
    "def movie_title(title):\n",
    "    return title.strip().split(\" \")\n",
    "\n",
    "data7[\"Year\"] = data7[\"Title\"].apply(year_extracted)\n",
    "data7[\"Year\"].unique()\n",
    "\n",
    "X=data7.groupby(\"Year\")[\"Net\"].max()\n",
    "X.values\n",
    "d={}\n",
    "for i in range(len(data7[\"Net\"])):\n",
    "    if data7[\"Net\"][i] in (X.values):\n",
    "        key=data7[\"Year\"][i]\n",
    "        value=data7[\"Title\"][i]\n",
    "        d[key]=value\n",
    "        \n",
    "        \n",
    "# for i in range(len(X.Title)):\n",
    "#     print(X[\"Title\"].index[i],X[\"Title\"].values[i])\n",
    "\n",
    "for i  in sorted(d):\n",
    "    print(i,d[i])"
   ]
  },
  {
   "cell_type": "markdown",
   "metadata": {},
   "source": [
    "#### Q8. Find out the percentage of the budget for each genre in IMDB Movie Dataset?Plot the pie chart.\n",
    "Print the genre and percentage of movies budget present in that genre with 2 decimal place after rounding off..\n",
    "Note: Movies has multiple genres, so calculate the percentage for each genre.Replace empty budget column to zero."
   ]
  },
  {
   "cell_type": "code",
   "execution_count": 531,
   "metadata": {},
   "outputs": [
    {
     "name": "stdout",
     "output_type": "stream",
     "text": [
      "Action 17.98\n",
      "Adventure 25.10\n",
      "Animation 7.66\n",
      "Biography 2.59\n",
      "Comedy 7.22\n",
      "Crime 1.77\n",
      "Drama 10.85\n",
      "Family 1.91\n",
      "Fantasy 4.54\n",
      "History 0.72\n",
      "Horror 0.03\n",
      "Music 0.15\n",
      "Musical 0.25\n",
      "Mystery 1.95\n",
      "Romance 1.12\n",
      "Sci-Fi 10.77\n",
      "Sport 0.46\n",
      "Thriller 3.99\n",
      "War 0.36\n",
      "Western 0.57\n"
     ]
    },
    {
     "data": {
      "image/png": "[encoded data removed]",
      "text/plain": [
       "<Figure size 432x288 with 1 Axes>"
      ]
     },
     "metadata": {},
     "output_type": "display_data"
    }
   ],
   "source": [
    "import matplotlib.pyplot as plt\n",
    "import pandas as pd\n",
    "import numpy as np\n",
    "import sqlite3\n",
    "\n",
    "db=sqlite3.connect(\"IMDB.sqlite\")\n",
    "\n",
    "df=pd.read_sql_query(\"Select * from IMDB lef join genre using(Movie_id)\",db)\n",
    "df.head()\n",
    "df.describe()\n",
    "df[\"Budget\"].replace(\"\",0,inplace=True)\n",
    "\n",
    "df.Budget.unique()\n",
    "df[\"genre\"].replace('',np.NaN,inplace=True)\n",
    "df.dropna(subset=[\"genre\"],inplace=True)\n",
    "grouped_sum= df.groupby(\"genre\")[\"Budget\"].sum()\n",
    "df.dropna(subset=[\"genre\"],inplace=True)\n",
    "\n",
    "for i in range(len(grouped_sum)):\n",
    "    percentage=grouped_sum.values[i]/(sum(grouped_sum))*100\n",
    "    print(grouped_sum.index[i],format(percentage,\".2f\"))\n",
    "\n",
    "plt.pie(grouped_sum,labels=grouped_sum.index,autopct=\"%.2f\")\n",
    "plt.show()"
   ]
  },
  {
   "cell_type": "markdown",
   "metadata": {},
   "source": [
    "#### Q9.Find out the percentage of the total earning for each genre in IMDB Movie Dataset?Plot the pie chart.\n",
    "Print the genre and percentage of movies total earning present in that genre with 2 decimal place after rounding off.\n",
    "Note: Movies has multiple genres, so calculate the percentage for each genre.Total Earning=Domestic earning + WorldWide earning."
   ]
  },
  {
   "cell_type": "code",
   "execution_count": 551,
   "metadata": {},
   "outputs": [
    {
     "name": "stdout",
     "output_type": "stream",
     "text": [
      "Action 17.91\n",
      "Adventure 23.57\n",
      "Animation 6.77\n",
      "Biography 3.42\n",
      "Comedy 7.69\n",
      "Crime 1.55\n",
      "Drama 11.96\n",
      "Family 1.05\n",
      "Fantasy 5.15\n",
      "History 1.04\n",
      "Horror 0.01\n",
      "Music 0.43\n",
      "Musical 0.38\n",
      "Mystery 2.01\n",
      "Romance 1.45\n",
      "Sci-Fi 9.95\n",
      "Sport 0.32\n",
      "Thriller 4.42\n",
      "War 0.25\n",
      "Western 0.65\n"
     ]
    },
    {
     "data": {
      "image/png": "[encoded data removed]",
      "text/plain": [
       "<Figure size 432x288 with 1 Axes>"
      ]
     },
     "metadata": {},
     "output_type": "display_data"
    }
   ],
   "source": [
    "import pandas as pd\n",
    "import sqlite3\n",
    "import numpy as np\n",
    "import matplotlib.pyplot as plt\n",
    "\n",
    "#making a connection to the database\n",
    "db= sqlite3.connect(\"IMDB.sqlite\")\n",
    "\n",
    "\n",
    "df=pd.read_sql_query(\"Select * from genre left join earning using(Movie_id)\",db)\n",
    "df[\"Net\"]= df[\"Domestic\"]+df[\"Worldwide\"]\n",
    "df[\"Net\"].unique()\n",
    "df[\"genre\"].replace(\"\",np.NaN,inplace=True)\n",
    "df.dropna(subset=[\"genre\"],inplace=True)\n",
    "\n",
    "grouped_sum=df.groupby(\"genre\")[\"Net\"].sum()\n",
    "\n",
    "for i in range(len(grouped_sum)):\n",
    "    percentage=grouped_sum.values[i]/(sum(grouped_sum))*100\n",
    "    print(grouped_sum.index[i],format(percentage,\".2f\"))\n",
    "\n",
    "plt.pie(grouped_sum,labels=grouped_sum.index,autopct=\"%.2f\")\n",
    "plt.show()\n"
   ]
  },
  {
   "cell_type": "markdown",
   "metadata": {},
   "source": [
    "#### Find the movie which has genre of 'Sci-Fi' and 'Mystery' and movie rating is greater or equal to 8 from IMDB Movie Database.\n",
    "Print the movie name.\n",
    "Movies has multiple genre."
   ]
  },
  {
   "cell_type": "code",
   "execution_count": 564,
   "metadata": {},
   "outputs": [
    {
     "name": "stdout",
     "output_type": "stream",
     "text": [
      "Arrival (2016)\n"
     ]
    }
   ],
   "source": [
    "import pandas as pd\n",
    "import sqlite3\n",
    "import numpy as np\n",
    "import matplotlib.pyplot as plt\n",
    "\n",
    "#making a connection to the database\n",
    "db= sqlite3.connect(\"IMDB.sqlite\")\n",
    "\n",
    "\n",
    "df=pd.read_sql_query(\"Select * from IMDB left join genre using(Movie_id)\",db)\n",
    "df[(df[\"genre\"]=='Sci-Fi')&(df[\"Rating\"]>=8) | (df[\"genre\"]=='Mystery')&(df[\"Rating\"]>=8)]\n",
    "#for i in range(len(df.Title)):\n",
    "print(df.loc[19,\"Title\"])"
   ]
  },
  {
   "cell_type": "code",
   "execution_count": null,
   "metadata": {},
   "outputs": [],
   "source": []
  }
 ],
 "metadata": {
  "kernelspec": {
   "display_name": "Python 3",
   "language": "python",
   "name": "python3"
  },
  "language_info": {
   "codemirror_mode": {
    "name": "ipython",
    "version": 3
   },
   "file_extension": ".py",
   "mimetype": "text/x-python",
   "name": "python",
   "nbconvert_exporter": "python",
   "pygments_lexer": "ipython3",
   "version": "3.7.4"
  }
 },
 "nbformat": 4,
 "nbformat_minor": 4
}
