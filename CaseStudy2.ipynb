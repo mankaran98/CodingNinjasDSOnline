{
 "cells": [
  {
   "cell_type": "markdown",
   "metadata": {},
   "source": [
    "##### Q.1 Your Friend has developed the Product and he wants to establish the product startup and he is searching for a perfect location where getting the investment has a high chance. But due to its financial restriction, he can choose only between three locations -  Bangalore, Mumbai, and NCR. As a friend, you want to help your friend deciding the location. NCR include Gurgaon, Noida and New Delhi. Find the location where the most number of funding is done. That means, find the location where startups has received funding maximum number of times. Plot the bar graph between location and number of funding. Take city name \"Delhi\" as \"New Delhi\". Check the case-sensitiveness of cities also. That means, at some place instead of \"Bangalore\", \"bangalore\" is given. Take city name as \"Bangalore\". For few startups multiple locations are given, one Indian and one Foreign. Consider the startup if any one of the city lies in given locations."
   ]
  },
  {
   "cell_type": "code",
   "execution_count": 74,
   "metadata": {},
   "outputs": [
    {
     "data": {
      "text/plain": [
       "Bangalore    635\n",
       "Mumbai       449\n",
       "New Delhi    389\n",
       "Gurgaon      241\n",
       "Pune          91\n",
       "Noida         79\n",
       "Hyderabad     77\n",
       "Chennai       67\n",
       "Ahmedabad     35\n",
       "Jaipur        25\n",
       "Name: CityLocation, dtype: int64"
      ]
     },
     "execution_count": 74,
     "metadata": {},
     "output_type": "execute_result"
    }
   ],
   "source": [
    "import pandas as pd\n",
    "import numpy as np\n",
    "import matplotlib.pyplot as plt\n",
    "df= pd.read_csv(\"startup_funding.csv\")\n",
    "df.head()\n",
    "df[\"CityLocation\"].dropna(inplace=True)\n",
    "# Finding top 10 cities in India \n",
    "X=df[\"CityLocation\"]\n",
    "def name(cityname):\n",
    "    return cityname.split('/')[0].strip()\n",
    "df[\"CityLocation\"]=df[\"CityLocation\"].apply(name)\n",
    "df['CityLocation'].replace('Delhi','New Delhi',inplace=True)\n",
    "df['CityLocation'].replace('bangalore','Bangalore',inplace=True)\n",
    "df[\"CityLocation\"].value_counts().head(10)"
   ]
  },
  {
   "cell_type": "code",
   "execution_count": 75,
   "metadata": {},
   "outputs": [
    {
     "name": "stdout",
     "output_type": "stream",
     "text": [
      "{'Bangalore': 635, 'Mumbai': 449, 'NCR': 709}\n"
     ]
    }
   ],
   "source": [
    "#Narrowing down to the 3 specified places\n",
    "li=[\"Bangalore\",\"Mumbai\",\"NCR\"]\n",
    "d={}\n",
    "#COUNT FOR BANGALORE\n",
    "for i in li:\n",
    "    if i==\"NCR\":\n",
    "        value= ((df[\"CityLocation\"]==\"New Delhi\") | (df[\"CityLocation\"]==\"Gurgaon\") | (df[\"CityLocation\"]==\"Noida\")).sum()\n",
    "        d[i]=d.get(i,0)+value\n",
    "    else:\n",
    "        value=(df[\"CityLocation\"]==i).sum()\n",
    "        d[i]=d.get(i,0)+value\n",
    "print(d)"
   ]
  },
  {
   "cell_type": "code",
   "execution_count": 76,
   "metadata": {},
   "outputs": [
    {
     "data": {
      "image/png": "[encoded data removed]",
      "text/plain": [
       "<Figure size 432x288 with 1 Axes>"
      ]
     },
     "metadata": {
      "needs_background": "light"
     },
     "output_type": "display_data"
    }
   ],
   "source": [
    "#Plotting the graph\n",
    "import matplotlib.pyplot as plt\n",
    "fig = plt.figure()\n",
    "ax = fig.add_axes([1,0,1,1])\n",
    "ax.set_title('City vs number of fundings')\n",
    "ax.bar(d.keys(),d.values())\n",
    "plt.show()"
   ]
  },
  {
   "cell_type": "code",
   "execution_count": 77,
   "metadata": {},
   "outputs": [
    {
     "name": "stdout",
     "output_type": "stream",
     "text": [
      "NCR 709\n"
     ]
    }
   ],
   "source": [
    "#maximum number of funding\n",
    "maximum=max(d.values())\n",
    "for i in d:\n",
    "    if d[i]==maximum:\n",
    "        print(i,d[i])"
   ]
  },
  {
   "cell_type": "markdown",
   "metadata": {},
   "source": [
    "##### Q2.Even after trying for so many times, your friend’s startup could not find the investment. So you decided to take this matter in your hand and try to find the list of investors who probably can invest in your friend’s startup. Your list will increase the chance of your friend startup getting some initial investment by contacting these investors. Find the top 5 investors who have invested maximum number of times (consider repeat investments in one company also). In a startup, multiple investors might have invested. So consider each investor for that startup. Ignore undisclosed investors."
   ]
  },
  {
   "cell_type": "code",
   "execution_count": 102,
   "metadata": {},
   "outputs": [
    {
     "name": "stdout",
     "output_type": "stream",
     "text": [
      "Sequoia Capital 64\n",
      "Accel Partners 53\n",
      "Kalaari Capital 44\n",
      "SAIF Partners 41\n",
      "Indian Angel Network 40\n"
     ]
    }
   ],
   "source": [
    "# reading the data\n",
    "df= pd.read_csv(\"startup_funding.csv\")\n",
    "\n",
    "df[\"StartupName\"].replace(\"Ola Cabs\",\"Ola\",inplace= True)\n",
    "df[\"StartupName\"].replace(\"Olacabs\",\"Ola\",inplace= True)\n",
    "df[\"StartupName\"].replace(\"Paytm Marketplace\",\"Paytm\",inplace=True)\n",
    "df[\"StartupName\"].replace(\"Flipkart.com\",\"Flipkart\",inplace=True)\n",
    "df[\"StartupName\"].replace(\"Oyo Rooms\",\"Oyo\",inplace=True)\n",
    "df[\"StartupName\"].replace(\"Oyorooms\",\"Oyo\",inplace=True)\n",
    "df[\"StartupName\"].replace(\"OyoRooms\",\"Oyo\",inplace=True)\n",
    "df[\"StartupName\"].replace(\"OYO Rooms\",\"Oyo\",inplace=True)\n",
    "df[\"AmountInUSD\"].fillna(\"0\",inplace=True)\n",
    "#converting into  numerical values\n",
    "def num_1(value):\n",
    "    if value!=\"\":\n",
    "        return int(float(value.replace(',', '')))\n",
    "df[\"AmountInUSD\"]=df[\"AmountInUSD\"].apply(num_1)\n",
    "df[\"InvestorsName\"].dropna(inplace=True)\n",
    "\n",
    "d={}\n",
    "def name(val):\n",
    "    arr= val.split(\",\")\n",
    "    for i in arr:\n",
    "        key=i.strip()\n",
    "        d[key]=d.get(key,0)+1\n",
    "    \n",
    "df[\"InvestorsName\"].apply(name)\n",
    "\n",
    "\n",
    "name=[]\n",
    "value=[]\n",
    "for key in d:\n",
    "    name.append(key)\n",
    "    value.append(d[key])\n",
    "# array of the names and values\n",
    "np_values=np.array(value)\n",
    "np_names=np.array(name)\n",
    "\n",
    "#in descending order\n",
    "X=np_values.argsort()[::-1][:5]\n",
    "for i in X:\n",
    "    print(np_names[i],np_values[i])"
   ]
  },
  {
   "cell_type": "markdown",
   "metadata": {},
   "source": [
    "##### Q3 After re-analysing the dataset you found out that some investors have invested in the same startup at different number of funding rounds. So before finalising the previous list, you want to improvise it by finding the top 5 investors who have invested in different number of startups. This list will be more helpful than your previous list in finding the investment for your friend startup. Find the top 5 investors who have invested maximum number of times in different companies. That means, if one investor has invested multiple times in one startup, count one for that company. There are many errors in startup names. Ignore correcting all, just handle the important ones - Ola, Flipkart, Oyo and Paytm.\n"
   ]
  },
  {
   "cell_type": "code",
   "execution_count": 107,
   "metadata": {},
   "outputs": [],
   "source": [
    "df= pd.read_csv(\"startup_funding.csv\")\n",
    "#correcting the wrong names \n",
    "df[\"StartupName\"].replace(\"Ola Cabs\",\"Ola\",inplace= True)\n",
    "df[\"StartupName\"].replace(\"Olacabs\",\"Ola\",inplace= True)\n",
    "df[\"StartupName\"].replace(\"Paytm Marketplace\",\"Paytm\",inplace=True)\n",
    "df[\"StartupName\"].replace(\"Flipkart.com\",\"Flipkart\",inplace=True)\n",
    "df[\"StartupName\"].replace(\"Oyo Rooms\",\"Oyo\",inplace=True)\n",
    "df[\"StartupName\"].replace(\"Oyorooms\",\"Oyo\",inplace=True)\n",
    "df[\"StartupName\"].replace(\"OyoRooms\",\"Oyo\",inplace=True)\n",
    "df[\"StartupName\"].replace(\"OYO Rooms\",\"Oyo\",inplace=True)\n",
    "df[\"AmountInUSD\"].fillna(\"0\",inplace=True)\n",
    "df.dropna(subset = [\"StartupName\",\"InvestorsName\"],inplace = True)  #removing row's having nan's in Investors name and startupnames columns.."
   ]
  },
  {
   "cell_type": "code",
   "execution_count": 108,
   "metadata": {},
   "outputs": [
    {
     "name": "stdout",
     "output_type": "stream",
     "text": [
      "Sequoia Capital 48\n",
      "Accel Partners 47\n",
      "Kalaari Capital 41\n",
      "Indian Angel Network 40\n",
      "Blume Ventures 36\n"
     ]
    }
   ],
   "source": [
    "# a dictionary to hold the keys as investor name and values as a set of all the startups invested in\n",
    "d={}\n",
    "for i in df.index:\n",
    "    investor_name=df[\"InvestorsName\"][i].strip()\n",
    "    if \",\" in investor_name:\n",
    "        arr_name=investor_name.strip().split(\",\")\n",
    "        for j in arr_name:#removing spaces before and after the name\n",
    "            if j.strip() in d:\n",
    "                d[j.strip()].add(df[\"StartupName\"][i].strip())\n",
    "            else:\n",
    "                s=set()\n",
    "                d[j.strip()]=s   \n",
    "                d[j.strip()].add(df[\"StartupName\"][i].strip())\n",
    "            \n",
    "            \n",
    "    else:\n",
    "        stripped=investor_name.strip()\n",
    "        if stripped in d: \n",
    "            d[stripped].add((df[\"StartupName\"][i].strip()))\n",
    "        else:\n",
    "            s=set()\n",
    "            d[stripped]=s  \n",
    "            d[stripped].add(df[\"StartupName\"][i].strip())\n",
    "            \n",
    "#making another dictionary to keep a count of the number of startups each investor invested in\n",
    "d1={}\n",
    "for i in d:\n",
    "    if i==\"\":\n",
    "        continue\n",
    "    d1[i]=len(d[i])\n",
    "    \n",
    "#to get the top 5 values in dictionary of investors\n",
    "#sorted\n",
    "d2= sorted(d1,key=d1.get,reverse=True)\n",
    "\n",
    "for i in d2[:5]:\n",
    "    print(i,d1[i])\n"
   ]
  },
  {
   "cell_type": "markdown",
   "metadata": {},
   "source": [
    "##### Q4 Even after putting so much effort in finding the probable investors, it didn't turn out to be helpful for your friend. So you went to your investor friend to understand the situation better and your investor friend explained to you about the different Investment Types and their features. This new information will be helpful in finding the right investor. Since your friend startup is at an early stage startup, the best-suited investment type would be - Seed Funding and Crowdfunding. Find the top 5 investors who have invested in a different number of startups and their investment type is Crowdfunding or Seed Funding. Correct spelling of investment types are - \"Private Equity\", \"Seed Funding\", \"Debt Funding\", and \"Crowd Funding\". Keep an eye for any spelling mistake. You can find this by printing unique values from this column. There are many errors in startup names. Ignore correcting all, just handle the important ones - Ola, Flipkart, Oyo and Paytm."
   ]
  },
  {
   "cell_type": "code",
   "execution_count": 122,
   "metadata": {},
   "outputs": [],
   "source": [
    "import numpy as np\n",
    "import pandas as pd\n",
    "import matplotlib.pyplot as plt\n",
    "df= pd.read_csv(\"startup_funding.csv\")\n",
    "df[\"AmountInUSD\"].fillna(\"0\",inplace=True)\n",
    "def num_1(value):\n",
    "    if value!=\"\":\n",
    "        return int(float(value.replace(',', '')))\n",
    "df[\"AmountInUSD\"]=df[\"AmountInUSD\"].apply(num_1)\n",
    "#correcting the investment typo errors\n",
    "df[\"InvestmentType\"].replace('SeedFunding','Seed Funding',inplace=True)\n",
    "df[\"InvestmentType\"].replace('PrivateEquity','Private Equity',inplace=True)\n",
    "df[\"InvestmentType\"].replace('Crowd funding','Crowd Funding',inplace=True)\n",
    "#correcting the Startup names typo errors\n",
    "df[\"StartupName\"].replace(\"Ola Cabs\",\"Ola\",inplace= True)\n",
    "df[\"StartupName\"].replace(\"Olacabs\",\"Ola\",inplace= True)\n",
    "df[\"StartupName\"].replace(\"Paytm Marketplace\",\"Paytm\",inplace=True)\n",
    "df[\"StartupName\"].replace(\"Flipkart.com\",\"Flipkart\",inplace=True)\n",
    "df[\"StartupName\"].replace(\"Oyo Rooms\",\"Oyo\",inplace=True)\n",
    "df[\"StartupName\"].replace(\"Oyorooms\",\"Oyo\",inplace=True)\n",
    "df[\"StartupName\"].replace(\"OyoRooms\",\"Oyo\",inplace=True)\n",
    "df[\"StartupName\"].replace(\"OYO Rooms\",\"Oyo\",inplace=True)\n",
    "df[\"AmountInUSD\"].fillna(\"0\",inplace=True)\n",
    "#TAKING CARE OF THE NA VALUES:\n",
    "df.dropna(subset = [\"StartupName\",\"InvestorsName\",\"InvestmentType\"],inplace = True)\n",
    "df_copy= df.copy()\n",
    "#limiting only to seed funding and crowd funding\n",
    "condition= (df_copy[\"InvestmentType\"]==\"Crowdfunding\") | (df_copy[\"InvestmentType\"]=='Seed Funding')\n",
    "df_copy=df_copy[condition]\n"
   ]
  },
  {
   "cell_type": "code",
   "execution_count": 131,
   "metadata": {},
   "outputs": [
    {
     "name": "stdout",
     "output_type": "stream",
     "text": [
      "Indian Angel Network 33\n",
      "Rajan Anandan 23\n",
      "LetsVenture 16\n",
      "Anupam Mittal 16\n",
      "Kunal Shah 14\n"
     ]
    }
   ],
   "source": [
    "# a dictionary to hold the keys as investor name and values as a set of all the startups invested in\n",
    "d={}\n",
    "for i in df_copy.index:\n",
    "    investor_name=df[\"InvestorsName\"][i].strip()\n",
    "    if \",\" in investor_name:\n",
    "        arr_name=investor_name.strip().split(\",\")\n",
    "        for j in arr_name:#removing spaces before and after the name\n",
    "            if j.strip() in d:\n",
    "                d[j.strip()].add(df[\"StartupName\"][i].strip())\n",
    "            else:\n",
    "                s=set()\n",
    "                d[j.strip()]=s   \n",
    "                d[j.strip()].add(df[\"StartupName\"][i].strip())\n",
    "            \n",
    "            \n",
    "    else:\n",
    "        stripped=investor_name.strip()\n",
    "        if stripped in d: \n",
    "            d[stripped].add((df[\"StartupName\"][i].strip()))\n",
    "        else:\n",
    "            s=set()\n",
    "            d[stripped]=s  \n",
    "            d[stripped].add(df[\"StartupName\"][i].strip())\n",
    "            \n",
    "#making another dictionary to keep a count of the number of startups each investor invested in\n",
    "d1={}\n",
    "for i in d:\n",
    "    if i==\"\":\n",
    "        continue\n",
    "    d1[i]=len(d[i])\n",
    "    \n",
    "\n",
    "\n",
    "del d1[\"Undisclosed Investors\"]\n",
    "del d1[\"Undisclosed investors\"]\n",
    "#to get the top 5 values in dictionary of investors\n",
    "#Sorting the dictionary in reverse order \n",
    "d2= sorted(d1,key=d1.get,reverse=True)\n",
    "\n",
    "for i in d2[:5]:\n",
    "    print(i,d1[i])\n"
   ]
  },
  {
   "cell_type": "markdown",
   "metadata": {},
   "source": [
    "##### Q5  Due to your immense help, your friend startup successfully got seed funding and it is on the operational mode. Now your friend wants to expand his startup and he is looking for new investors for his startup. Now you again come as a saviour to help your friend and want to create a list of probable new new investors. Before moving forward you remember your investor friend advice that finding the investors by analysing the investment type. Since your friend startup is not in early phase it is in growth stage so the best-suited investment type is Private Equity. Find the top 5 investors who have invested in a different number of startups and their investment type is Private Equity. Correct spelling of investment types are - \"Private Equity\", \"Seed Funding\", \"Debt Funding\", and \"Crowd Funding\". Keep an eye for any spelling mistake. You can find this by printing unique values from this column.There are many errors in startup names. Ignore correcting all, just handle the important ones - Ola, Flipkart, Oyo and Paytm."
   ]
  },
  {
   "cell_type": "code",
   "execution_count": 133,
   "metadata": {},
   "outputs": [],
   "source": [
    "import numpy as np\n",
    "import pandas as pd\n",
    "import matplotlib.pyplot as plt\n",
    "df= pd.read_csv(\"startup_funding.csv\")\n",
    "df[\"AmountInUSD\"].fillna(\"0\",inplace=True)\n",
    "def num_1(value):\n",
    "    if value!=\"\":\n",
    "        return int(float(value.replace(',', '')))\n",
    "df[\"AmountInUSD\"]=df[\"AmountInUSD\"].apply(num_1)\n",
    "#correcting the investment typo errors\n",
    "df[\"InvestmentType\"].replace('SeedFunding','Seed Funding',inplace=True)\n",
    "df[\"InvestmentType\"].replace('PrivateEquity','Private Equity',inplace=True)\n",
    "df[\"InvestmentType\"].replace('Crowd funding','Crowd Funding',inplace=True)\n",
    "#correcting the Startup names typo errors\n",
    "df[\"StartupName\"].replace(\"Ola Cabs\",\"Ola\",inplace= True)\n",
    "df[\"StartupName\"].replace(\"Olacabs\",\"Ola\",inplace= True)\n",
    "df[\"StartupName\"].replace(\"Paytm Marketplace\",\"Paytm\",inplace=True)\n",
    "df[\"StartupName\"].replace(\"Flipkart.com\",\"Flipkart\",inplace=True)\n",
    "df[\"StartupName\"].replace(\"Oyo Rooms\",\"Oyo\",inplace=True)\n",
    "df[\"StartupName\"].replace(\"Oyorooms\",\"Oyo\",inplace=True)\n",
    "df[\"StartupName\"].replace(\"OyoRooms\",\"Oyo\",inplace=True)\n",
    "df[\"StartupName\"].replace(\"OYO Rooms\",\"Oyo\",inplace=True)\n",
    "df[\"AmountInUSD\"].fillna(\"0\",inplace=True)\n",
    "#TAKING CARE OF THE NA VALUES:\n",
    "df.dropna(subset = [\"StartupName\",\"InvestorsName\",\"InvestmentType\"],inplace = True)\n",
    "df_copy= df.copy()\n",
    "#limiting only to seed funding and crowd funding\n",
    "condition= (df_copy[\"InvestmentType\"]==\"Private Equity\") \n",
    "df_copy=df_copy[condition]\n"
   ]
  },
  {
   "cell_type": "code",
   "execution_count": 134,
   "metadata": {},
   "outputs": [
    {
     "name": "stdout",
     "output_type": "stream",
     "text": [
      "Sequoia Capital 45\n",
      "Accel Partners 43\n",
      "Kalaari Capital 35\n",
      "Blume Ventures 27\n",
      "SAIF Partners 24\n"
     ]
    }
   ],
   "source": [
    "# a dictionary to hold the keys as investor name and values as a set of all the startups invested in\n",
    "d={}\n",
    "for i in df_copy.index:\n",
    "    investor_name=df[\"InvestorsName\"][i].strip()\n",
    "    if \",\" in investor_name:\n",
    "        arr_name=investor_name.strip().split(\",\")\n",
    "        for j in arr_name:#removing spaces before and after the name\n",
    "            if j.strip() in d:\n",
    "                d[j.strip()].add(df[\"StartupName\"][i].strip())\n",
    "            else:\n",
    "                s=set()\n",
    "                d[j.strip()]=s   \n",
    "                d[j.strip()].add(df[\"StartupName\"][i].strip())\n",
    "            \n",
    "            \n",
    "    else:\n",
    "        stripped=investor_name.strip()\n",
    "        if stripped in d: \n",
    "            d[stripped].add((df[\"StartupName\"][i].strip()))\n",
    "        else:\n",
    "            s=set()\n",
    "            d[stripped]=s  \n",
    "            d[stripped].add(df[\"StartupName\"][i].strip())\n",
    "            \n",
    "#making another dictionary to keep a count of the number of startups each investor invested in\n",
    "d1={}\n",
    "for i in d:\n",
    "    if i==\"\":\n",
    "        continue\n",
    "    d1[i]=len(d[i])\n",
    "    \n",
    "\n",
    "\n",
    "del d1[\"Undisclosed Investors\"]\n",
    "del d1[\"Undisclosed investors\"]\n",
    "#to get the top 5 values in dictionary of investors\n",
    "#Sorting the dictionary in reverse order \n",
    "d2= sorted(d1,key=d1.get,reverse=True)\n",
    "\n",
    "for i in d2[:5]:\n",
    "    print(i,d1[i])\n"
   ]
  },
  {
   "cell_type": "code",
   "execution_count": null,
   "metadata": {},
   "outputs": [],
   "source": []
  }
 ],
 "metadata": {
  "kernelspec": {
   "display_name": "Python 3",
   "language": "python",
   "name": "python3"
  },
  "language_info": {
   "codemirror_mode": {
    "name": "ipython",
    "version": 3
   },
   "file_extension": ".py",
   "mimetype": "text/x-python",
   "name": "python",
   "nbconvert_exporter": "python",
   "pygments_lexer": "ipython3",
   "version": "3.7.4"
  }
 },
 "nbformat": 4,
 "nbformat_minor": 4
}
