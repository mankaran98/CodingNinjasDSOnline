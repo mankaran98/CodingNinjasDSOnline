{
 "cells": [
  {
   "cell_type": "markdown",
   "metadata": {},
   "source": [
    "### For this project, we are using the Zomato API.\n",
    "Zomato APIs give you access to the freshest and most exhaustive information for over 1.5 million restaurants across 10,000 cities globally.\n",
    "Zomato API documentation link :https://developers.zomato.com/documentation"
   ]
  },
  {
   "cell_type": "markdown",
   "metadata": {},
   "source": [
    "### Our Motivation for using Zomato API\n",
    "By Collecting the data using Zomato API one can recommend restaurants on the basis of user’s affinity to specific cuisines, establishment types, locations, and price bands.\n",
    "We can find out whether restaurant support online reservation or not.\n",
    "We can find what is the most popular and/ or exclusive/new at a given location & time."
   ]
  },
  {
   "cell_type": "markdown",
   "metadata": {},
   "source": [
    "## Zomato cuisine problem details\n",
    "\n",
    "Mexican cuisine began about 9,000 years ago, when agricultural communities such as the Maya formed, domesticating maize, creating the standard process of corn nixtamalization, and establishing their foodways.\n",
    "You are a huge fan of ‘Mexican’ cuisine. Now using the Zomato API you want to analyse the best restaurant serving the Mexican Cuisine, their locations, and cost for two, etc.\n",
    "There is a list of questions related to Mexican cuisines given in the next section."
   ]
  },
  {
   "cell_type": "markdown",
   "metadata": {},
   "source": [
    "### Q1. Fetch the cuisine_id of ‘Mexican’ cuisine using Zomato API. Print the cuisine_id."
   ]
  },
  {
   "cell_type": "code",
   "execution_count": 15,
   "metadata": {},
   "outputs": [
    {
     "name": "stdout",
     "output_type": "stream",
     "text": [
      "73\n"
     ]
    }
   ],
   "source": [
    "#importing the required packages\n",
    "import requests\n",
    "import json\n",
    "\n",
    "header= {\"user-key\": \"03243261d4b0d6bb012970de4fe3ac0d\"}\n",
    "response= requests.get(\"https://developers.zomato.com/api/v2.1/cuisines\",headers=header,params={\"city_id\":20})\n",
    "\n",
    "python_data= response.json()\n",
    "\n",
    "for i in python_data[\"cuisines\"]:\n",
    "    if i[\"cuisine\"][\"cuisine_name\"]==\"Mexican\":\n",
    "        print(i[\"cuisine\"][\"cuisine_id\"])"
   ]
  },
  {
   "cell_type": "markdown",
   "metadata": {},
   "source": [
    "### Q2.Fetch the entityid and entitytype of place Connaught Place.\n",
    "Print the entityid and entitytype,"
   ]
  },
  {
   "cell_type": "code",
   "execution_count": 22,
   "metadata": {},
   "outputs": [
    {
     "name": "stdout",
     "output_type": "stream",
     "text": [
      "subzone 104\n"
     ]
    }
   ],
   "source": [
    "#importing the required packages\n",
    "import requests\n",
    "import json\n",
    "\n",
    "header= {\"user-key\": \"03243261d4b0d6bb012970de4fe3ac0d\"}\n",
    "response= requests.get(\"https://developers.zomato.com/api/v2.1/locations\",headers=header,params={\"query\":\" Connaught Place\"})\n",
    "\n",
    "python_data= response.json()\n",
    "\n",
    "\n",
    "for i in python_data[\"location_suggestions\"]:\n",
    "    print(i[\"entity_type\"],i[\"entity_id\"])"
   ]
  },
  {
   "cell_type": "markdown",
   "metadata": {},
   "source": [
    "### Q3. Fetch the top 10 best-rated restaurant serving ‘Mexican’ cuisine present in Connaught Place.\n",
    "Print the restaurant name, user rating and restaurant id."
   ]
  },
  {
   "cell_type": "code",
   "execution_count": 92,
   "metadata": {},
   "outputs": [
    {
     "name": "stdout",
     "output_type": "stream",
     "text": [
      "Chili's Grill & Bar 4.6 18537536\n",
      "Farzi Cafe 4.5 18233593\n",
      "Xero Degrees 4.3 18729557\n",
      "Ministry Of Beer 4.3 18418277\n",
      "The Beer Cafe - BIGGIE 4.2 307060\n",
      "Unplugged Courtyard 4.2 18216901\n",
      "Chaayos - Meri Wali Chai 4.2 18237315\n",
      "Rodeo Cantina & Kitchen 4.1 18673403\n",
      "38 Barracks 4.1 18241537\n",
      "Kinbuck 2 4.1 309586\n"
     ]
    }
   ],
   "source": [
    "#importing the required packages\n",
    "import requests\n",
    "import json\n",
    "\n",
    "header= {\"user-key\": \"03243261d4b0d6bb012970de4fe3ac0d\"}\n",
    "response= requests.get(\"https://developers.zomato.com/api/v2.1/search\",headers=header,params={\"entity_id\":104,\"entity_type\":\"subzone\",\"cuisines\":73})\n",
    "python_data= response.json()\n",
    "python_data[\"restaurants\"]\n",
    "names= []\n",
    "ratings=[]\n",
    "restaurant_id=[]\n",
    "for i in python_data[\"restaurants\"]:\n",
    "    names.append(i[\"restaurant\"][\"name\"])\n",
    "    ratings.append(float(i[\"restaurant\"]['user_rating'][\"aggregate_rating\"]))\n",
    "    restaurant_id.append(i[\"restaurant\"][\"R\"][\"res_id\"])\n",
    "d={\"name\":names,\"rating\":ratings,\"id\":restaurant_id}\n",
    "print(i[\"restaurant\"][\"name\"],i[\"restaurant\"]['user_rating'][\"aggregate_rating\"],i[\"restaurant\"][\"R\"][\"res_id\"])\n",
    "import pandas as pd\n",
    "df=pd.DataFrame(d)\n",
    "\n",
    "df=df.sort_values(by=[\"rating\"],ascending=False)\n",
    "df=df.head(10)\n",
    "\n",
    "for i in df.index:\n",
    "    print(df[\"name\"][i],df[\"rating\"][i],df[\"id\"][i])\n",
    "\n"
   ]
  },
  {
   "cell_type": "markdown",
   "metadata": {},
   "source": [
    "### Q4.Fetch the category id of category type ‘Cafes’ using Zomato API.\n",
    "Print the category_id."
   ]
  },
  {
   "cell_type": "code",
   "execution_count": 102,
   "metadata": {},
   "outputs": [
    {
     "name": "stdout",
     "output_type": "stream",
     "text": [
      "6\n"
     ]
    }
   ],
   "source": [
    "#importing the required packages\n",
    "import requests\n",
    "import json\n",
    "\n",
    "header= {\"user-key\": \"03243261d4b0d6bb012970de4fe3ac0d\"}\n",
    "response= requests.get(\"https://developers.zomato.com/api/v2.1/categories\",headers=header)\n",
    "\n",
    "python_data= response.json()\n",
    "\n",
    "for i in python_data['categories']:\n",
    "    if i[\"categories\"][\"name\"]==\"Cafes\":\n",
    "        print(i[\"categories\"]['id'])"
   ]
  },
  {
   "cell_type": "markdown",
   "metadata": {},
   "source": [
    "### Q5. Fetch the best-rated restaurant for ‘Mexican’ cuisine with category type ‘ Cafes’ present in Connaught Place using Zomato API.\n",
    "Print the restaurant name, user rating and restaurant id."
   ]
  },
  {
   "cell_type": "code",
   "execution_count": 104,
   "metadata": {},
   "outputs": [
    {
     "name": "stdout",
     "output_type": "stream",
     "text": [
      "Xero Degrees 4.3 18729557\n",
      "Chaayos - Meri Wali Chai 4.2 18237315\n",
      "The Art House Bar n Cafe 3.9 18863766\n",
      "Cafe Delhi Heights 3.8 18579363\n",
      "Cafe Coffee Day - The Square 3.4 303034\n"
     ]
    }
   ],
   "source": [
    "#importing the required packages\n",
    "import requests\n",
    "import json\n",
    "\n",
    "header= {\"user-key\": \"03243261d4b0d6bb012970de4fe3ac0d\"}\n",
    "param={\"entity_id\":104,\"entity_type\":\"subzone\",\"cuisines\":73,\"category\":6}\n",
    "response= requests.get(\"https://developers.zomato.com/api/v2.1/search\",headers=header,params=param)\n",
    "python_data= response.json()\n",
    "python_data[\"restaurants\"]\n",
    "names= []\n",
    "ratings=[]\n",
    "restaurant_id=[]\n",
    "for i in python_data[\"restaurants\"]:\n",
    "    names.append(i[\"restaurant\"][\"name\"])\n",
    "    ratings.append(float(i[\"restaurant\"]['user_rating'][\"aggregate_rating\"]))\n",
    "    restaurant_id.append(i[\"restaurant\"][\"R\"][\"res_id\"])\n",
    "d={\"name\":names,\"rating\":ratings,\"id\":restaurant_id}\n",
    "\n",
    "import pandas as pd\n",
    "df=pd.DataFrame(d)\n",
    "\n",
    "df=df.sort_values(by=[\"rating\"],ascending=False)\n",
    "df=df.head(10)\n",
    "\n",
    "for i in df.index:\n",
    "    print(df[\"name\"][i],df[\"rating\"][i],df[\"id\"][i])\n",
    "\n"
   ]
  },
  {
   "cell_type": "markdown",
   "metadata": {},
   "source": [
    "### Q6. Fetch the latest review of the best-rated restaurant for ‘Mexican’ cuisine with Category type ‘Cafes’ present in Connaught Place using Zomato API.\n",
    "Print the name of user ,user rating and review text."
   ]
  },
  {
   "cell_type": "code",
   "execution_count": 121,
   "metadata": {},
   "outputs": [
    {
     "name": "stdout",
     "output_type": "stream",
     "text": [
      "4 There shakes are super amazing. Lovely ambience and great crowd. Yash Sharma\n",
      "4 So went to this place after my colleagues recommended it..coz its nearby my college ..n i never regretted going there...from then hav been ordering from them .their fries,those cute multicolored burgers are something to munch upon...u shud not think even once before going there..just do it❤️the only drawback here is that during peak hours u ll hav to wait..n the seating space is a bit small.. Tandoori Tummy\n",
      "3 Space is little but food is great. Serive is good. And ambience is okay. Must visit for great food. Quantity and quality is great. Portions are well for three group of friends. Chhavi Gola\n",
      "4 This place is perfect for an evening outing with your friends. The ambience is amazing. And the staff is very polite. Also the food is really amusing. Try their cheesy fries they are the best and the red velvet shake . I really enjoyed the place Karishma Dhameja\n",
      "4 I love the colour burger and peri peri fries and the Jaar pizza💯💯💯💯💯💯💯💯💯💯💯 ANITA KUMARI\n"
     ]
    }
   ],
   "source": [
    "import requests\n",
    "import json\n",
    "param={\"res_id\":18729557}\n",
    "header={\"user-key\": \"03243261d4b0d6bb012970de4fe3ac0d\"}\n",
    "response= requests.get(\"https://developers.zomato.com/api/v2.1/reviews\",params=param,headers=header)\n",
    "\n",
    "python_data= response.json()\n",
    "for i in python_data[\"user_reviews\"]:\n",
    "    print(i[\"review\"][\"rating\"],i[\"review\"][\"review_text\"],i[\"review\"][\"user\"][\"name\"])\n",
    "    "
   ]
  },
  {
   "cell_type": "markdown",
   "metadata": {},
   "source": [
    "## Zomato restaurant Problem Detail\n",
    "\"Pa Pa Ya\" is a modern Asian bistro & tapas bar from the House of Massive Restaurants and best described as a chic, modern and radical reinterpretation of Asian cuisine.\n",
    "You have heard from your friends that restaurant \"Pa Pa Ya\" in Delhi is quite good. So now you want to extract the information related to \"Pa Pa Ya\" using Zomato API.\n",
    "There is a list of questions related to the restaurant given in the next section."
   ]
  },
  {
   "cell_type": "markdown",
   "metadata": {},
   "source": [
    "### Q1.Fetch the details of \"Pa Pa Ya\" restaurant using Zomato API.\n",
    "Print the user rating, the average cost for two, cuisines and address of \"Pa Pa Ya\" restaurant."
   ]
  },
  {
   "cell_type": "code",
   "execution_count": 150,
   "metadata": {},
   "outputs": [
    {
     "name": "stdout",
     "output_type": "stream",
     "text": [
      "4.9\n",
      "2500\n",
      "Asian, Chinese, Thai, Japanese\n",
      "A-3, Select Citywalk, District Centre, Saket, New Delhi\n"
     ]
    }
   ],
   "source": [
    "import requests\n",
    "import json\n",
    "params={\"q\":\"Pa Pa Ya\"}\n",
    "header={\"user-key\":\"03243261d4b0d6bb012970de4fe3ac0d\"}\n",
    "response=requests.get(\"https://developers.zomato.com/api/v2.1/search\",headers=header,params=params)\n",
    "\n",
    "python_data= response.json()\n",
    "id=18429148\n",
    "response=requests.get(\"https://developers.zomato.com/api/v2.1/restaurant\",params={\"res_id\":18429148},headers=header)\n",
    "data=response.json()\n",
    "print(data[\"user_rating\"][\"aggregate_rating\"])\n",
    "print(data[\"average_cost_for_two\"])\n",
    "print(data[\"cuisines\"])\n",
    "print(data[\"location\"][\"address\"])"
   ]
  },
  {
   "cell_type": "markdown",
   "metadata": {},
   "source": [
    "### Find out whether online table reservation is supported in \"Pa Pa Ya\" restaurant or not using Zomato API.\n",
    "Print 'yes' if online table reservation is supported else 'no'"
   ]
  },
  {
   "cell_type": "code",
   "execution_count": 162,
   "metadata": {},
   "outputs": [
    {
     "name": "stdout",
     "output_type": "stream",
     "text": [
      "Yes\n"
     ]
    }
   ],
   "source": [
    "header={\"user-key\":\"03243261d4b0d6bb012970de4fe3ac0d\"}\n",
    "response=requests.get(\"https://developers.zomato.com/api/v2.1/restaurant\",params={\"res_id\":18429148},headers=header)\n",
    "data=response.json()\n",
    "\n",
    "if data[\"is_table_reservation_supported\"]==0:\n",
    "    print(\"No\")\n",
    "else:\n",
    "    print(\"Yes\")"
   ]
  },
  {
   "cell_type": "markdown",
   "metadata": {},
   "source": [
    "### Fetch the latest review of \"Pa Pa Ya\" restaurant using Zomato API.\n",
    "Print the name of the user, user rating and review text."
   ]
  },
  {
   "cell_type": "code",
   "execution_count": 181,
   "metadata": {},
   "outputs": [
    {
     "name": "stdout",
     "output_type": "stream",
     "text": [
      "Simon 4 Great Ambiance, Lovely staff members, Delighted with the quality of food and the presentation. Would surely come back for more.\n",
      "The_foodeats 3 \n",
      "Twofoodieforks 4 \n",
      "Sreekanth S 5 \n",
      "Jyoti Verma 5 Before covid hit, happened to trap a quick lunch from ever so popular restaurant Papaya. Man, their service is so fast that it wasn’t even funny! We happened to grab veg Padh Thai with veggie red Curry.    *not giving detailed ratings until this stupid covid19 gets over\n"
     ]
    }
   ],
   "source": [
    "import requests\n",
    "header={\"user-key\":\"03243261d4b0d6bb012970de4fe3ac0d\"}\n",
    "response=requests.get(\"https://developers.zomato.com/api/v2.1/reviews\",params={\"res_id\":18429148},headers=header)\n",
    "data=response.json()\n",
    "\n",
    "for i in data[\"user_reviews\"]:\n",
    "    print(i[\"review\"][\"user\"][\"name\"],i[\"review\"][\"rating\"],i[\"review\"][\"review_text\"])"
   ]
  },
  {
   "cell_type": "markdown",
   "metadata": {},
   "source": [
    "## Zomato Distance Problem\n",
    "\n",
    "Distance is also a very important factor while selecting a restaurant. Suppose you are at Coding Ninjas and you want to select the restaurant which is near to you using Zomato API.\n",
    "Note down the latitude and longitude of Coding Ninjas using Google Maps\n",
    "There is a list of questions related to restaurant near me given in the next section.\n",
    "- 28.6976709,77.1384382"
   ]
  },
  {
   "cell_type": "markdown",
   "metadata": {},
   "source": [
    "### Fetch the cuisine_id of of cuisine ‘BBQ’ using Zomato API.\n",
    "Print the cuisine_id"
   ]
  },
  {
   "cell_type": "code",
   "execution_count": 191,
   "metadata": {},
   "outputs": [
    {
     "name": "stdout",
     "output_type": "stream",
     "text": [
      "193\n"
     ]
    }
   ],
   "source": [
    "import requests\n",
    "import json\n",
    "header={\"user-key\":\"03243261d4b0d6bb012970de4fe3ac0d\"}\n",
    "param={\"lat\":28.6976709,\"lon\":77.1384382}\n",
    "response=requests.get(\"https://developers.zomato.com/api/v2.1/cuisines\",headers=header,params=param)\n",
    "\n",
    "data=response.json()\n",
    "for i in data[\"cuisines\"]:\n",
    "    if i[\"cuisine\"][\"cuisine_name\"]==\"BBQ\":\n",
    "        print(i[\"cuisine\"][\"cuisine_id\"])"
   ]
  },
  {
   "cell_type": "markdown",
   "metadata": {},
   "source": [
    "### Fetch the list of the top 10 restaurants serving cuisine ‘BBQ’ which are nearest to Coding Ninjas.\n",
    "Print the restaurant name, user rating, restaurant id and locality in which restaurant is present"
   ]
  },
  {
   "cell_type": "code",
   "execution_count": 232,
   "metadata": {},
   "outputs": [
    {
     "name": "stdout",
     "output_type": "stream",
     "text": [
      "Themis Barbecue House 4.2 18204820 Netaji Subhash Place\n",
      "Barbeque Nation 4.5 9561 Netaji Subhash Place\n",
      "New Bombay Bar-Be-Que 3.5 5303 Prashant Vihar\n",
      "Amazings Kitchen 0 19370424 Prashant Vihar\n",
      "Moet's Barbeque 0 19238917 Alipur\n",
      "UBQ by Barbeque Nation 3.2 18889760 Rohini\n",
      "Kays Bar-Be-Que 3.9 3079 Ashok Vihar Phase 1\n",
      "Chicken Adda 0 19179179 Rohini\n",
      "7teen BBQ Bistro Bnq 3.9 18595610 Moti Nagar\n",
      "Pishori Chicken 0 19061375 Kirti Nagar\n"
     ]
    }
   ],
   "source": [
    "#importing the required packages\n",
    "import requests\n",
    "import json\n",
    "\n",
    "header= {\"user-key\": \"03243261d4b0d6bb012970de4fe3ac0d\"}\n",
    "param={\"lat\":28.6976709,\"lon\":77.1384382,\"cuisines\":\"193\",\"sort\":\"real_distance\",\"oder\":\"asc\",\"count\":10}\n",
    "response= requests.get(\"https://developers.zomato.com/api/v2.1/search\",headers=header,params=param)\n",
    "\n",
    "python_data=response.json()\n",
    "for i in python_data[\"restaurants\"]:\n",
    "    print(i[\"restaurant\"][\"name\"],i[\"restaurant\"]['user_rating'][\"aggregate_rating\"],i[\"restaurant\"][\"R\"][\"res_id\"],i[\"restaurant\"][\"location\"][\"locality\"])\n",
    "    \n",
    "    "
   ]
  },
  {
   "cell_type": "markdown",
   "metadata": {},
   "source": [
    "### Fetch the latest review of the restaurant serving cuisine ‘BBQ’ which is most nearest to Coding ninjas?\n",
    "Print the name of user ,user rating and review text."
   ]
  },
  {
   "cell_type": "code",
   "execution_count": 233,
   "metadata": {},
   "outputs": [
    {
     "name": "stdout",
     "output_type": "stream",
     "text": [
      "Sakshi Sabnani 4 We organized a get together here..ambiance and drinks was good but the food was not upto the mark but if you are going for dine out the food is good..maybe they weren't able to cater the party well.\n",
      "ANNANT VASHIST 5 I celebrated my bday in Themis barbecue . I enjoyed a lot and the staff was really good nd the food is very delicious .\n",
      "Sangeeta Kalita (thatcravingfoodie) 4 Visited them last month. On entering, you realise that the indoor seating area is not that spacious. I wanted to be seated outdoors, but then it's only allowed for dinner time. I wasn't very taken by the ambiance.  Coming to the food, I opted for the non-vegetarian buffet option. For drinks, I chose a litchi based mocktail. You could also go for beer or whisky which I think I should have chosen too, now that I think of it. But there's no use crying over spilled milk now. So coming back to my litchi mocktail, let me say it was awesome. Tart and sweet and zingy. Was a pleasant accompaniment to the starters. I really liked the chilly fish, chicken tikka, crispy corn. Cajun potatoes lacked that kick and mutton seekh was really dry. The paneer tikka too wasn't flavourful enough. And the pizza base was very tough.  The main course was so delicious. I am a manchow soup lover. And I helped myself to bowls of the veg manchow soup. Then I came across chicken hot and sour soup and gobbled that up too. I also tried different salads I think you could and should skip them. The chicken biryani and mutton rogan josh warmed up my soul with their distinctly spiced flavours. The biryani deserves special mention with the overwhelming aroma of whole spices and chunky chicken pieces. The rogan josh curry was hot and spicy and I was satisfied then and there. Nevertheless, greed occupied me again while going through other dishes and this time I helped myself to hakka chowmein and stir fried veggies in basil chilly sauce (yeah it's veg. Don't be surprised). The veggie gravy was utterly savoury and had so much going on. Sweet, sour, salty, that fresh basil hit. And by then I realised I was almost full and had to end my main course eating spree.  Coming to desserts, gulab jamuns were soul warming. The chocolate pastry was lush and bitter and kept me wanting more. The tarts were creamy and crumbley. Delicious. Moong dal halwa was all ghee and nuts and heavenly. And the strawberry ice cream was creamy and screamed fresh strawberries and not the artificial colour and flavour stuff.  Overall, it was a decent experience. Although I think cutting out the live music part during afternoons wouldn't be a bad idea afterall. It felt kinda loud and claustrophobic. The service was not bad. The prices were moderate. I paid 1300+ for two non-veg lunch buffets.\n",
      "Medhavi 5 Enjoyed a wide range of dishes at this buffet outlet with aesthetic interiors and designer exteriors. Scrumptious barbeque starters with grilled chicken,fish tikka in skewers on the table. Sipped on a variety of mocktails plus the singer was there to entertain throughout our time there. The main course dishes were made very well with excellent sea food, dum biryani , paneer dishes, types of breads and exquisite desserts to choose from namely white chocolate brownie , pineapple pastries , truffle cake and cut fruits. Would definitely recommend to one and all.\n",
      "Piyush Matreja 5 Live singing, spectacular ambience and every one enjoying to the grilled kebabs on their table, that's Themis barbeque all about. Based on the concept of buffet where you start with snacks on the table with cool mocktails. I tried the lemon ice tea and charred prawns tikka as well as chicken malai tikka ,their non veg starters were great. Main course I had mutton rogan josh with lachha parantha and enjoyed a few of my favourite desserts namely strawberry tarts and a chocolate truffle cake with cherries. I must say that was a good lunch I relished after long.\n"
     ]
    }
   ],
   "source": [
    "id=18204820 \n",
    "import requests\n",
    "import json\n",
    "param={\"res_id\":id}\n",
    "header={\"user-key\": \"03243261d4b0d6bb012970de4fe3ac0d\"}\n",
    "response= requests.get(\"https://developers.zomato.com/api/v2.1/reviews\",params=param,headers=header)\n",
    "\n",
    "python_data= response.json()\n",
    "for i in python_data[\"user_reviews\"]:\n",
    "    print(i[\"review\"][\"user\"][\"name\"],i[\"review\"][\"rating\"],i[\"review\"][\"review_text\"])"
   ]
  },
  {
   "cell_type": "markdown",
   "metadata": {},
   "source": [
    "### Experiment with the radius parameter that is present in ‘GET/search’. Fetch the list of top 10 best-restaurant present in a radius of 4 km of coding ninjas.\n",
    "Print the restaurant name, user rating, restaurant id and locality in which restaurant is present."
   ]
  },
  {
   "cell_type": "code",
   "execution_count": 238,
   "metadata": {},
   "outputs": [
    {
     "name": "stdout",
     "output_type": "stream",
     "text": [
      "Indian Accent 4.9 2004 The Lodhi, Lodhi Road\n",
      "Pa Pa Ya 4.9 18429148 Select Citywalk Mall, Saket\n",
      "The Big Chill 4.9 8244 Khan Market\n",
      "Kuremal Mohan Lal Kulfi Wale 4.9 303642 Chawri Bazar\n",
      "Dum-Pukht - ITC Maurya 4.9 2744 ITC Maurya, Chanakyapuri\n",
      "Carnatic Cafe 4.9 7843 Lodhi Colony\n",
      "Cafe Lota 4.9 305525 Pragati Maidan\n",
      "Cocktails & Dreams, Speakeasy 4.9 300716 Sector 15\n",
      "The Big Chill Cafe 4.8 18919107 The Colonnade, Connaught Place\n",
      "The Big Chill Cakery 4.8 18665943 Khan Market\n"
     ]
    }
   ],
   "source": [
    "#importing the required packages\n",
    "import requests\n",
    "import json\n",
    "\n",
    "header= {\"user-key\": \"03243261d4b0d6bb012970de4fe3ac0d\"}\n",
    "param={\"lat\":28.6976709,\"lon\":77.1384382,\"sort\":\"rating\",\"order\":\"desc\",\"count\":10,\"radius\":4000}\n",
    "response= requests.get(\"https://developers.zomato.com/api/v2.1/search\",headers=header,params=param)\n",
    "\n",
    "\n",
    "\n",
    "python_data=response.json()\n",
    "for i in python_data[\"restaurants\"]:\n",
    "    print(i[\"restaurant\"][\"name\"],i[\"restaurant\"]['user_rating'][\"aggregate_rating\"],i[\"restaurant\"][\"R\"][\"res_id\"],i[\"restaurant\"][\"location\"][\"locality\"])"
   ]
  },
  {
   "cell_type": "markdown",
   "metadata": {},
   "source": [
    "### Compare the location of the restaurant whether really they are in a distance of 4 km to Coding Ninjas. Find out whether these API radius feature is working or not.\n",
    "Print 'yes' if radius feature work else print 'no'."
   ]
  },
  {
   "cell_type": "code",
   "execution_count": null,
   "metadata": {},
   "outputs": [],
   "source": []
  },
  {
   "cell_type": "code",
   "execution_count": null,
   "metadata": {},
   "outputs": [],
   "source": []
  },
  {
   "cell_type": "code",
   "execution_count": null,
   "metadata": {},
   "outputs": [],
   "source": []
  }
 ],
 "metadata": {
  "kernelspec": {
   "display_name": "Python 3",
   "language": "python",
   "name": "python3"
  },
  "language_info": {
   "codemirror_mode": {
    "name": "ipython",
    "version": 3
   },
   "file_extension": ".py",
   "mimetype": "text/x-python",
   "name": "python",
   "nbconvert_exporter": "python",
   "pygments_lexer": "ipython3",
   "version": "3.7.4"
  }
 },
 "nbformat": 4,
 "nbformat_minor": 4
}
